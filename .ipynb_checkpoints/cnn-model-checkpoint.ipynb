{
 "cells": [
  {
   "cell_type": "code",
   "execution_count": 1,
   "metadata": {
    "collapsed": true
   },
   "outputs": [
    {
     "name": "stderr",
     "output_type": "stream",
     "text": [
      "Using TensorFlow backend.\n",
      "C:\\Users\\kplus\\anaconda3\\envs\\myenv36\\lib\\site-packages\\tensorflow\\python\\framework\\dtypes.py:526: FutureWarning: Passing (type, 1) or '1type' as a synonym of type is deprecated; in a future version of numpy, it will be understood as (type, (1,)) / '(1,)type'.\n",
      "  _np_qint8 = np.dtype([(\"qint8\", np.int8, 1)])\n",
      "C:\\Users\\kplus\\anaconda3\\envs\\myenv36\\lib\\site-packages\\tensorflow\\python\\framework\\dtypes.py:527: FutureWarning: Passing (type, 1) or '1type' as a synonym of type is deprecated; in a future version of numpy, it will be understood as (type, (1,)) / '(1,)type'.\n",
      "  _np_quint8 = np.dtype([(\"quint8\", np.uint8, 1)])\n",
      "C:\\Users\\kplus\\anaconda3\\envs\\myenv36\\lib\\site-packages\\tensorflow\\python\\framework\\dtypes.py:528: FutureWarning: Passing (type, 1) or '1type' as a synonym of type is deprecated; in a future version of numpy, it will be understood as (type, (1,)) / '(1,)type'.\n",
      "  _np_qint16 = np.dtype([(\"qint16\", np.int16, 1)])\n",
      "C:\\Users\\kplus\\anaconda3\\envs\\myenv36\\lib\\site-packages\\tensorflow\\python\\framework\\dtypes.py:529: FutureWarning: Passing (type, 1) or '1type' as a synonym of type is deprecated; in a future version of numpy, it will be understood as (type, (1,)) / '(1,)type'.\n",
      "  _np_quint16 = np.dtype([(\"quint16\", np.uint16, 1)])\n",
      "C:\\Users\\kplus\\anaconda3\\envs\\myenv36\\lib\\site-packages\\tensorflow\\python\\framework\\dtypes.py:530: FutureWarning: Passing (type, 1) or '1type' as a synonym of type is deprecated; in a future version of numpy, it will be understood as (type, (1,)) / '(1,)type'.\n",
      "  _np_qint32 = np.dtype([(\"qint32\", np.int32, 1)])\n",
      "C:\\Users\\kplus\\anaconda3\\envs\\myenv36\\lib\\site-packages\\tensorflow\\python\\framework\\dtypes.py:535: FutureWarning: Passing (type, 1) or '1type' as a synonym of type is deprecated; in a future version of numpy, it will be understood as (type, (1,)) / '(1,)type'.\n",
      "  np_resource = np.dtype([(\"resource\", np.ubyte, 1)])\n"
     ]
    }
   ],
   "source": [
    "import keras\n",
    "from keras.datasets import mnist\n",
    "from keras.models import Sequential\n",
    "from keras.layers import Dense, Dropout, Flatten, Conv2D, MaxPooling2D\n",
    "from keras import backend"
   ]
  },
  {
   "cell_type": "code",
   "execution_count": 2,
   "metadata": {},
   "outputs": [],
   "source": [
    "# 定義訓練參數\n",
    "batch_size = 256\n",
    "epochs = 2\n",
    "\n",
    "# 定義圖像寬、高\n",
    "img_rows, img_cols = 28, 28"
   ]
  },
  {
   "cell_type": "code",
   "execution_count": 3,
   "metadata": {},
   "outputs": [],
   "source": [
    "(X_train, y_train), (X_test, y_test) = mnist.load_data()\n",
    "\n",
    "y_test_org = y_test \n",
    "# Input shape\n",
    "# backend.image_data_format()\n",
    "# If data_format='channels_last': 4D tensor with shape (batch_size, rows, cols, channels).\n",
    "# If data_format='channels_first': 4D tensor with shape (batch_size, channels, rows, cols).\n",
    "# channel:1 代表灰階\n",
    "if backend.image_data_format() == 'channels_last':\n",
    "    X_train = X_train.reshape(X_train.shape[0], img_rows, img_cols, 1)\n",
    "    X_test = X_test.reshape(X_test.shape[0], img_rows, img_cols, 1)\n",
    "    input_shape = (img_rows, img_cols, 1)\n",
    "else : # channel_first\n",
    "    X_train = X_train.reshape(X_train.shape[0], 1, img_rows, img_cols)\n",
    "    X_test = X_test.reshape(X_test.shape[0], 1, img_rows, img_cols)\n",
    "    input_shape = (1, img_rows, img_cols)"
   ]
  },
  {
   "cell_type": "code",
   "execution_count": 4,
   "metadata": {},
   "outputs": [],
   "source": [
    "# 正規化 0~255 → 0~1\n",
    "X_train_nor = X_train.astype('float32') / 255\n",
    "X_test_nor = X_test.astype('float32') / 255\n",
    "\n",
    "# y 轉成 one-hot encoding\n",
    "y_train = keras.utils.to_categorical(y_train, 10)\n",
    "y_test = keras.utils.to_categorical(y_test, 10)\n"
   ]
  },
  {
   "cell_type": "code",
   "execution_count": 5,
   "metadata": {},
   "outputs": [
    {
     "name": "stdout",
     "output_type": "stream",
     "text": [
      "WARNING:tensorflow:From C:\\Users\\kplus\\anaconda3\\envs\\myenv36\\lib\\site-packages\\tensorflow\\python\\framework\\op_def_library.py:263: colocate_with (from tensorflow.python.framework.ops) is deprecated and will be removed in a future version.\n",
      "Instructions for updating:\n",
      "Colocations handled automatically by placer.\n",
      "WARNING:tensorflow:From C:\\Users\\kplus\\anaconda3\\envs\\myenv36\\lib\\site-packages\\keras\\backend\\tensorflow_backend.py:3445: calling dropout (from tensorflow.python.ops.nn_ops) with keep_prob is deprecated and will be removed in a future version.\n",
      "Instructions for updating:\n",
      "Please use `rate` instead of `keep_prob`. Rate should be set to `rate = 1 - keep_prob`.\n"
     ]
    }
   ],
   "source": [
    "model = Sequential()\n",
    "# 卷積層\n",
    "model.add(Conv2D( filters=32, kernel_size=(3, 3), activation='relu',\n",
    "                input_shape=input_shape))\n",
    "\n",
    "model.add(Conv2D( filters=64, kernel_size=(3, 3), activation='relu' ))\n",
    "\n",
    "model.add(MaxPooling2D( pool_size=(2, 2) ))\n",
    "# Dropout 防止過度擬合\n",
    "model.add(Dropout(0.25))\n",
    "# Flatten 攤平轉為1D準備接全連接層\n",
    "model.add(Flatten())\n",
    "\n",
    "model.add(Dense( 128, activation='relu' ))\n",
    "\n",
    "model.add(Dropout(0.5))\n",
    "\n",
    "model.add(Dense( 10, activation='softmax' ))\n",
    "\n",
    "model.compile(loss=keras.losses.categorical_crossentropy, \n",
    "              optimizer='adam', metrics=['accuracy'])\n",
    "\n"
   ]
  },
  {
   "cell_type": "code",
   "execution_count": 6,
   "metadata": {},
   "outputs": [
    {
     "name": "stdout",
     "output_type": "stream",
     "text": [
      "WARNING:tensorflow:From C:\\Users\\kplus\\anaconda3\\envs\\myenv36\\lib\\site-packages\\tensorflow\\python\\ops\\math_ops.py:3066: to_int32 (from tensorflow.python.ops.math_ops) is deprecated and will be removed in a future version.\n",
      "Instructions for updating:\n",
      "Use tf.cast instead.\n",
      "Train on 60000 samples, validate on 10000 samples\n",
      "Epoch 1/2\n",
      "60000/60000 [==============================] - 137s 2ms/step - loss: 0.2965 - acc: 0.9093 - val_loss: 0.0628 - val_acc: 0.9799\n",
      "Epoch 2/2\n",
      "60000/60000 [==============================] - 133s 2ms/step - loss: 0.0932 - acc: 0.9726 - val_loss: 0.0419 - val_acc: 0.9869\n"
     ]
    }
   ],
   "source": [
    "# train model\n",
    "train_history = model.fit(X_train_nor, y_train, batch_size=batch_size, \n",
    "                         epochs=epochs, \n",
    "                         verbose=1,\n",
    "                         validation_data=(X_test_nor, y_test))\n"
   ]
  },
  {
   "cell_type": "code",
   "execution_count": 7,
   "metadata": {},
   "outputs": [
    {
     "name": "stdout",
     "output_type": "stream",
     "text": [
      "10000/10000 [==============================] - 7s 685us/step\n",
      "Test loss: 0.04190482625630684\n",
      "Test accuracy: 0.9869\n"
     ]
    }
   ],
   "source": [
    "score = model.evaluate(X_test_nor, y_test, verbose=1)\n",
    "print('Test loss:', score[0])\n",
    "print('Test accuracy:', score[1])"
   ]
  },
  {
   "cell_type": "code",
   "execution_count": 8,
   "metadata": {},
   "outputs": [
    {
     "name": "stdout",
     "output_type": "stream",
     "text": [
      "[[ 974    0    1    1    0    1    2    0    1    0]\n",
      " [   0 1131    2    1    0    0    1    0    0    0]\n",
      " [   1    1 1021    4    0    0    0    5    0    0]\n",
      " [   0    0    1 1005    0    2    0    1    1    0]\n",
      " [   1    1    2    0  966    0    1    0    0   11]\n",
      " [   1    0    1    8    0  880    2    0    0    0]\n",
      " [   4    2    0    1    1    5  943    0    2    0]\n",
      " [   1    0   10    2    0    0    0 1012    1    2]\n",
      " [   2    1    5    3    2    1    0    5  952    3]\n",
      " [   2    3    0    4    2    6    0    4    3  985]]\n"
     ]
    }
   ],
   "source": [
    "# rows=true, cols=pred\n",
    "from sklearn.metrics import confusion_matrix\n",
    "y_pred = model.predict_classes(X_test_nor)\n",
    "confusion_matrix = confusion_matrix(y_test_org, y_pred)\n",
    "print(confusion_matrix)"
   ]
  },
  {
   "cell_type": "code",
   "execution_count": 9,
   "metadata": {},
   "outputs": [
    {
     "data": {
      "image/png": "[encoded data removed]",
      "text/plain": [
       "<Figure size 432x288 with 1 Axes>"
      ]
     },
     "metadata": {
      "needs_background": "light"
     },
     "output_type": "display_data"
    },
    {
     "data": {
      "image/png": "[encoded data removed]",
      "text/plain": [
       "<Figure size 432x288 with 1 Axes>"
      ]
     },
     "metadata": {
      "needs_background": "light"
     },
     "output_type": "display_data"
    }
   ],
   "source": [
    "# 訓練過程趨勢圖\n",
    "import matplotlib.pyplot as plt\n",
    "def show_train_history(train_history, train, validation, title):\n",
    "    plt.plot(train_history.history[train])\n",
    "    plt.plot(train_history.history[validation])\n",
    "    plt.title(title)\n",
    "    plt.xlabel('acc')\n",
    "    plt.ylabel('epoch')\n",
    "    plt.legend(['train', 'validation'])\n",
    "    plt.show()\n",
    "# acc\n",
    "show_train_history(train_history, 'acc', 'val_acc', 'acc_train_history')\n",
    "# loss\n",
    "show_train_history(train_history, 'loss', 'val_loss', 'loss_train_history')"
   ]
  },
  {
   "cell_type": "code",
   "execution_count": 10,
   "metadata": {},
   "outputs": [],
   "source": [
    "model.save('cnn-model.h5')"
   ]
  }
 ],
 "metadata": {
  "kernelspec": {
   "display_name": "Python 3",
   "language": "python",
   "name": "python3"
  },
  "language_info": {
   "codemirror_mode": {
    "name": "ipython",
    "version": 3
   },
   "file_extension": ".py",
   "mimetype": "text/x-python",
   "name": "python",
   "nbconvert_exporter": "python",
   "pygments_lexer": "ipython3",
   "version": "3.6.12"
  }
 },
 "nbformat": 4,
 "nbformat_minor": 4
}
