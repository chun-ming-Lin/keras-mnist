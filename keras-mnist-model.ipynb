{
 "cells": [
  {
   "cell_type": "code",
   "execution_count": 1,
   "metadata": {},
   "outputs": [
    {
     "name": "stderr",
     "output_type": "stream",
     "text": [
      "Using TensorFlow backend.\n",
      "C:\\Users\\kplus\\anaconda3\\envs\\myenv36\\lib\\site-packages\\tensorflow\\python\\framework\\dtypes.py:526: FutureWarning: Passing (type, 1) or '1type' as a synonym of type is deprecated; in a future version of numpy, it will be understood as (type, (1,)) / '(1,)type'.\n",
      "  _np_qint8 = np.dtype([(\"qint8\", np.int8, 1)])\n",
      "C:\\Users\\kplus\\anaconda3\\envs\\myenv36\\lib\\site-packages\\tensorflow\\python\\framework\\dtypes.py:527: FutureWarning: Passing (type, 1) or '1type' as a synonym of type is deprecated; in a future version of numpy, it will be understood as (type, (1,)) / '(1,)type'.\n",
      "  _np_quint8 = np.dtype([(\"quint8\", np.uint8, 1)])\n",
      "C:\\Users\\kplus\\anaconda3\\envs\\myenv36\\lib\\site-packages\\tensorflow\\python\\framework\\dtypes.py:528: FutureWarning: Passing (type, 1) or '1type' as a synonym of type is deprecated; in a future version of numpy, it will be understood as (type, (1,)) / '(1,)type'.\n",
      "  _np_qint16 = np.dtype([(\"qint16\", np.int16, 1)])\n",
      "C:\\Users\\kplus\\anaconda3\\envs\\myenv36\\lib\\site-packages\\tensorflow\\python\\framework\\dtypes.py:529: FutureWarning: Passing (type, 1) or '1type' as a synonym of type is deprecated; in a future version of numpy, it will be understood as (type, (1,)) / '(1,)type'.\n",
      "  _np_quint16 = np.dtype([(\"quint16\", np.uint16, 1)])\n",
      "C:\\Users\\kplus\\anaconda3\\envs\\myenv36\\lib\\site-packages\\tensorflow\\python\\framework\\dtypes.py:530: FutureWarning: Passing (type, 1) or '1type' as a synonym of type is deprecated; in a future version of numpy, it will be understood as (type, (1,)) / '(1,)type'.\n",
      "  _np_qint32 = np.dtype([(\"qint32\", np.int32, 1)])\n",
      "C:\\Users\\kplus\\anaconda3\\envs\\myenv36\\lib\\site-packages\\tensorflow\\python\\framework\\dtypes.py:535: FutureWarning: Passing (type, 1) or '1type' as a synonym of type is deprecated; in a future version of numpy, it will be understood as (type, (1,)) / '(1,)type'.\n",
      "  np_resource = np.dtype([(\"resource\", np.ubyte, 1)])\n"
     ]
    }
   ],
   "source": [
    "# keras mnist practice 手寫模型練習\n",
    "import numpy as np\n",
    "from keras.models import Sequential\n",
    "from keras.datasets import mnist\n",
    "from keras.layers import Dense, Dropout, Activation, Flatten\n",
    "from keras.utils import np_utils # one-hot-encoder 功能\n",
    "from matplotlib import pyplot as plt\n",
    "import os\n",
    "np.random.seed(12345)"
   ]
  },
  {
   "cell_type": "code",
   "execution_count": 2,
   "metadata": {},
   "outputs": [],
   "source": [
    "# import mnist dataset\n",
    "(X_train, y_train), (X_test, y_test) = mnist.load_data()"
   ]
  },
  {
   "cell_type": "code",
   "execution_count": 22,
   "metadata": {
    "scrolled": false
   },
   "outputs": [
    {
     "name": "stdout",
     "output_type": "stream",
     "text": [
      "shape: (28, 28)\n"
     ]
    },
    {
     "data": {
      "image/png": "[encoded data removed]",
      "text/plain": [
       "<Figure size 432x288 with 10 Axes>"
      ]
     },
     "metadata": {},
     "output_type": "display_data"
    }
   ],
   "source": [
    "print('shape:', X_train[0].shape)\n",
    "\n",
    "fig, ax = plt.subplots(nrows=2, ncols=5, sharex=True, sharey=True)\n",
    "ax = ax.flatten()\n",
    "for i in range(10):\n",
    "    img = X_train[y_train==i][1]\n",
    "    ax[i].imshow(img, 'Greys')\n",
    "    \n",
    "ax[0].set_xticks([])\n",
    "ax[0].set_yticks([])\n",
    "plt.tight_layout()  # 自動調整圖距\n",
    "plt.show()\n"
   ]
  },
  {
   "cell_type": "code",
   "execution_count": 4,
   "metadata": {},
   "outputs": [
    {
     "data": {
      "text/plain": [
       "array([5, 0, 4, 1, 9, 2, 1, 3, 1, 4], dtype=uint8)"
      ]
     },
     "execution_count": 4,
     "metadata": {},
     "output_type": "execute_result"
    }
   ],
   "source": [
    "y_train[:10]"
   ]
  },
  {
   "cell_type": "code",
   "execution_count": 5,
   "metadata": {},
   "outputs": [
    {
     "name": "stdout",
     "output_type": "stream",
     "text": [
      "(60000, 28, 28) (10000, 28, 28)\n"
     ]
    }
   ],
   "source": [
    "print(X_train.shape, X_test.shape)"
   ]
  },
  {
   "cell_type": "code",
   "execution_count": 6,
   "metadata": {},
   "outputs": [
    {
     "name": "stdout",
     "output_type": "stream",
     "text": [
      "WARNING:tensorflow:From C:\\Users\\kplus\\anaconda3\\envs\\myenv36\\lib\\site-packages\\tensorflow\\python\\framework\\op_def_library.py:263: colocate_with (from tensorflow.python.framework.ops) is deprecated and will be removed in a future version.\n",
      "Instructions for updating:\n",
      "Colocations handled automatically by placer.\n"
     ]
    }
   ],
   "source": [
    "# create simple sequential model \n",
    "model = Sequential()\n",
    "# Add input layer\n",
    "# unit:0~255顏色位元 也可以取128,512等, input_dim:input_image 28*28=784, RandomUniform:均勻分布\n",
    "model.add(Dense(units=256, input_dim=784, kernel_initializer='RandomUniform', activation='relu'))\n",
    "\n",
    "# Add output layer\n",
    "# unit:0~9 numbers, softmax:有機率的分類，各個分類機率總和為1\n",
    "model.add(Dense(units=10, kernel_initializer='RandomUniform', activation='softmax', use_bias=False))\n",
    "\n",
    "# compile 編譯:chose loss fuction, optimizer, metrics\n",
    "model.compile(loss='categorical_crossentropy', optimizer='adam', metrics=['accuracy'])"
   ]
  },
  {
   "cell_type": "code",
   "execution_count": 7,
   "metadata": {},
   "outputs": [
    {
     "name": "stdout",
     "output_type": "stream",
     "text": [
      "5 → [0. 0. 0. 0. 0. 1. 0. 0. 0. 0.]\n"
     ]
    }
   ],
   "source": [
    "# One-hot-encoder (label)\n",
    "y_trainOnehot = np_utils.to_categorical(y_train)\n",
    "y_testOnehot = np_utils.to_categorical(y_test)\n",
    "print(y_train[0], '→', y_trainOnehot[0])"
   ]
  },
  {
   "cell_type": "code",
   "execution_count": 8,
   "metadata": {},
   "outputs": [
    {
     "name": "stdout",
     "output_type": "stream",
     "text": [
      "(60000, 28, 28) 3D \n",
      " (60000, 10) 2D\n"
     ]
    }
   ],
   "source": [
    "print(X_train.shape, '3D \\n', y_trainOnehot.shape, '2D')"
   ]
  },
  {
   "cell_type": "code",
   "execution_count": 9,
   "metadata": {},
   "outputs": [
    {
     "name": "stdout",
     "output_type": "stream",
     "text": [
      "WARNING:tensorflow:From C:\\Users\\kplus\\anaconda3\\envs\\myenv36\\lib\\site-packages\\tensorflow\\python\\ops\\math_ops.py:3066: to_int32 (from tensorflow.python.ops.math_ops) is deprecated and will be removed in a future version.\n",
      "Instructions for updating:\n",
      "Use tf.cast instead.\n",
      "Train on 48000 samples, validate on 12000 samples\n",
      "Epoch 1/10\n",
      " - 1s - loss: 0.8897 - acc: 0.8078 - val_loss: 0.3400 - val_acc: 0.9054\n",
      "Epoch 2/10\n",
      " - 1s - loss: 0.3186 - acc: 0.9099 - val_loss: 0.2607 - val_acc: 0.9275\n",
      "Epoch 3/10\n",
      " - 1s - loss: 0.2508 - acc: 0.9299 - val_loss: 0.2179 - val_acc: 0.9416\n",
      "Epoch 4/10\n",
      " - 1s - loss: 0.2075 - acc: 0.9417 - val_loss: 0.1871 - val_acc: 0.9483\n",
      "Epoch 5/10\n",
      " - 2s - loss: 0.1749 - acc: 0.9507 - val_loss: 0.1638 - val_acc: 0.9549\n",
      "Epoch 6/10\n",
      " - 2s - loss: 0.1513 - acc: 0.9576 - val_loss: 0.1511 - val_acc: 0.9573\n",
      "Epoch 7/10\n",
      " - 1s - loss: 0.1313 - acc: 0.9632 - val_loss: 0.1361 - val_acc: 0.9610\n",
      "Epoch 8/10\n",
      " - 2s - loss: 0.1161 - acc: 0.9676 - val_loss: 0.1262 - val_acc: 0.9648\n",
      "Epoch 9/10\n",
      " - 2s - loss: 0.1036 - acc: 0.9716 - val_loss: 0.1189 - val_acc: 0.9668\n",
      "Epoch 10/10\n",
      " - 2s - loss: 0.0934 - acc: 0.9743 - val_loss: 0.1123 - val_acc: 0.9674\n",
      "10000/10000 [==============================] - 0s 49us/step\n",
      "\n",
      "[Info]\t loss value = 10.58%\n",
      "\t Accuracy of testing data = 96.84%\n"
     ]
    }
   ],
   "source": [
    "# X:'input' to 2D\n",
    "X_train_2D = X_train.reshape(60000, 28*28).astype('float32')\n",
    "X_test_2D = X_test.reshape(10000, 28*28).astype('float32')\n",
    "\n",
    "# normalize (因為輸出結果為0~1的機率，輸入先歸一化)\n",
    "X_train_norm = X_train_2D / 255\n",
    "X_test_norm = X_test_2D / 255\n",
    "\n",
    "# 訓練模型 verbose=2 逐行紀錄訓練過程\n",
    "train_history = model.fit(x=X_train_norm, y=y_trainOnehot, validation_split=0.2, epochs=10, batch_size=800, verbose=2)\n",
    "\n",
    "# Scores\n",
    "scores = model.evaluate(X_test_norm, y_testOnehot)\n",
    "print('')\n",
    "print('[Info]\\t loss value = {:2.2f}%'.format(scores[0]*100))\n",
    "print('\\t Accuracy of testing data = {:2.2f}%'.format(scores[1]*100))"
   ]
  },
  {
   "cell_type": "code",
   "execution_count": 10,
   "metadata": {},
   "outputs": [],
   "source": [
    "# 訓練過程趨勢圖\n",
    "# plt.plot(train_history.history['acc'])\n",
    "# plt.plot(train_history.history['val_acc'])\n",
    "# plt.title('train_history_acc')\n",
    "# plt.ylabel('acc')\n",
    "# plt.xlabel('Epoch')\n",
    "# plt.legend(['train', 'validation'])\n",
    "# plt.show()"
   ]
  },
  {
   "cell_type": "code",
   "execution_count": 11,
   "metadata": {},
   "outputs": [],
   "source": [
    "def show_train_history(train_history, train, validation, title):\n",
    "    plt.plot(train_history.history[train])\n",
    "    plt.plot(train_history.history[validation])\n",
    "    plt.title(title)\n",
    "    plt.ylabel('acc')\n",
    "    plt.xlabel('Epoch')\n",
    "    plt.legend(['train', 'validation'])\n",
    "    plt.show()"
   ]
  },
  {
   "cell_type": "code",
   "execution_count": 12,
   "metadata": {},
   "outputs": [
    {
     "data": {
      "image/png": "[encoded data removed]",
      "text/plain": [
       "<Figure size 432x288 with 1 Axes>"
      ]
     },
     "metadata": {
      "needs_background": "light"
     },
     "output_type": "display_data"
    },
    {
     "data": {
      "image/png": "[encoded data removed]",
      "text/plain": [
       "<Figure size 432x288 with 1 Axes>"
      ]
     },
     "metadata": {
      "needs_background": "light"
     },
     "output_type": "display_data"
    }
   ],
   "source": [
    "# acc\n",
    "show_train_history(train_history, 'acc', 'val_acc', title='train_history_acc')\n",
    "# loss\n",
    "show_train_history(train_history, 'loss', 'val_loss', title='train_history_loss')\n"
   ]
  },
  {
   "cell_type": "code",
   "execution_count": 13,
   "metadata": {},
   "outputs": [
    {
     "name": "stdout",
     "output_type": "stream",
     "text": [
      "prediction : [2 6 6 0 1 2 3 4 5 6 7 8 9 0 1 2 3 4 5 6]\n",
      "actual     : [2 6 5 0 1 2 3 4 5 6 7 8 9 0 1 2 3 4 5 6]\n"
     ]
    }
   ],
   "source": [
    "y_pred = model.predict_classes(X_test_norm)\n",
    "print('prediction :', y_pred[-20:])\n",
    "print('actual     :', y_test[-20:])\n",
    "# 倒數18預測錯誤"
   ]
  },
  {
   "cell_type": "code",
   "execution_count": 14,
   "metadata": {},
   "outputs": [
    {
     "name": "stdout",
     "output_type": "stream",
     "text": [
      "[1.1260796e-03 1.1016086e-03 1.7616432e-02 2.2189087e-01 1.8068757e-04\n",
      " 2.7645238e-02 7.2344166e-01 1.5504822e-03 4.7389539e-03 7.0803432e-04]\n"
     ]
    }
   ],
   "source": [
    "# take a look 18th from the bottom\n",
    "print(model.predict(X_test_norm)[-18])"
   ]
  },
  {
   "cell_type": "code",
   "execution_count": 15,
   "metadata": {},
   "outputs": [
    {
     "data": {
      "image/png": "[encoded data removed]",
      "text/plain": [
       "<Figure size 432x288 with 1 Axes>"
      ]
     },
     "metadata": {
      "needs_background": "light"
     },
     "output_type": "display_data"
    }
   ],
   "source": [
    "plt.imshow(X_test[-18], cmap='Greys')\n",
    "plt.show()"
   ]
  },
  {
   "cell_type": "code",
   "execution_count": 16,
   "metadata": {},
   "outputs": [
    {
     "name": "stdout",
     "output_type": "stream",
     "text": [
      "[[ 964    0    1    2    0    5    5    2    1    0]\n",
      " [   0 1122    4    0    0    1    4    0    4    0]\n",
      " [   4    1 1001    5    3    1    5    5    7    0]\n",
      " [   0    0    6  986    0    5    0    4    7    2]\n",
      " [   1    0    4    1  949    0    7    2    2   16]\n",
      " [   4    1    0   10    1  854    9    2    7    4]\n",
      " [   5    3    1    1    6    7  930    0    5    0]\n",
      " [   0   11   12    7    2    1    0  981    1   13]\n",
      " [   3    0    4   12    3    5    5    3  936    3]\n",
      " [   3    7    2   13   12    2    1    5    3  961]]\n"
     ]
    }
   ],
   "source": [
    "# true(rows)  pred(cols)\n",
    "from sklearn.metrics import confusion_matrix\n",
    "matrix = confusion_matrix(y_true=y_test, y_pred=y_pred)\n",
    "print(matrix)"
   ]
  },
  {
   "cell_type": "code",
   "execution_count": 17,
   "metadata": {},
   "outputs": [
    {
     "name": "stdout",
     "output_type": "stream",
     "text": [
      "_________________________________________________________________\n",
      "Layer (type)                 Output Shape              Param #   \n",
      "=================================================================\n",
      "dense_1 (Dense)              (None, 256)               200960    \n",
      "_________________________________________________________________\n",
      "dense_2 (Dense)              (None, 10)                2560      \n",
      "=================================================================\n",
      "Total params: 203,520\n",
      "Trainable params: 203,520\n",
      "Non-trainable params: 0\n",
      "_________________________________________________________________\n"
     ]
    }
   ],
   "source": [
    "model.summary()"
   ]
  },
  {
   "cell_type": "code",
   "execution_count": 18,
   "metadata": {},
   "outputs": [],
   "source": [
    "from keras.utils import plot_model\n",
    "plot_model(model, to_file='model.png')"
   ]
  },
  {
   "cell_type": "code",
   "execution_count": 19,
   "metadata": {},
   "outputs": [],
   "source": [
    "# save config \n",
    "model_json = model.to_json()\n",
    "with open('model.config', 'w') as txt:\n",
    "    txt.write(model_json)\n",
    "    \n",
    "# save weight\n",
    "model.save_weights('model.weights')\n",
    "\n",
    "# save model\n",
    "model.save('model.h5')"
   ]
  },
  {
   "cell_type": "code",
   "execution_count": null,
   "metadata": {},
   "outputs": [],
   "source": []
  }
 ],
 "metadata": {
  "kernelspec": {
   "display_name": "Python 3",
   "language": "python",
   "name": "python3"
  },
  "language_info": {
   "codemirror_mode": {
    "name": "ipython",
    "version": 3
   },
   "file_extension": ".py",
   "mimetype": "text/x-python",
   "name": "python",
   "nbconvert_exporter": "python",
   "pygments_lexer": "ipython3",
   "version": "3.6.12"
  }
 },
 "nbformat": 4,
 "nbformat_minor": 4
}
